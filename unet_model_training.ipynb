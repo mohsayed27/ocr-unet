{
 "cells": [
  {
   "cell_type": "code",
   "execution_count": 1,
   "metadata": {
    "colab": {
     "base_uri": "https://localhost:8080/",
     "height": 34
    },
    "colab_type": "code",
    "executionInfo": {
     "elapsed": 654,
     "status": "ok",
     "timestamp": 1574542922451,
     "user": {
      "displayName": "Yousef Mahmoud",
      "photoUrl": "",
      "userId": "00207167269886880251"
     },
     "user_tz": -120
    },
    "id": "kwMRBmu4IsX-",
    "outputId": "69da5eea-d1c6-40f4-92f8-1624fac85cfc"
   },
   "outputs": [],
   "source": [
    "import imageio\n",
    "import numpy as np\n",
    "import matplotlib.pyplot as plt\n",
    "import matplotlib.image as mpimg\n",
    "from PIL import Image\n",
    "from tqdm import tqdm"
   ]
  },
  {
   "cell_type": "code",
   "execution_count": 40,
   "metadata": {},
   "outputs": [],
   "source": [
    "test_x=[]\n",
    "test_y=[]\n",
    "train_x=[]\n",
    "train_y=[]\n"
   ]
  },
  {
   "cell_type": "code",
   "execution_count": 17,
   "metadata": {
    "colab": {},
    "colab_type": "code",
    "id": "jvTTdDz9VqlZ"
   },
   "outputs": [],
   "source": [
    "def make1ch(img):\n",
    "    lum_img = img[:,:,0]\n",
    "    return lum_img "
   ]
  },
  {
   "cell_type": "code",
   "execution_count": null,
   "metadata": {
    "colab": {
     "base_uri": "https://localhost:8080/",
     "height": 34
    },
    "colab_type": "code",
    "executionInfo": {
     "elapsed": 1507,
     "status": "ok",
     "timestamp": 1574542923356,
     "user": {
      "displayName": "Yousef Mahmoud",
      "photoUrl": "",
      "userId": "00207167269886880251"
     },
     "user_tz": -120
    },
    "id": "7ZyxB3pzSXmd",
    "outputId": "d257351c-0471-45ce-9e0d-3b532e45283c",
    "scrolled": true
   },
   "outputs": [],
   "source": [
    "\n",
    "#res  = Image.open('C:\\\\Users\\\\youssef mahmoud\\\\desktop\\\\sub-block-poster.png')\n",
    "#res.crop((0,0,5,5))\n",
    "#res.resize((512,512))\n",
    "#res.show()\n",
    "\"\"\"\n",
    "im = imageio.imread('C:\\\\Users\\\\youssef mahmoud\\\\desktop\\\\Allsubs.png')\n",
    "#im= np.array(res)\n",
    "im = make1ch(im)\n",
    "im = np.array(im)\n",
    "\n",
    "im = (im>60)*1\n",
    "#im = (im==0)*1\n",
    "pred = []\n",
    "\n",
    "for i in range(4):\n",
    "    for j in range(4):\n",
    "        pred.append(im[j*512:(j+1)*512,i*512:(i+1)*512].reshape(512,512,1))\n",
    "        \n",
    "        \n",
    "unique_elements, counts_elements = np.unique(new, return_counts=True)\n",
    "print(\"Frequency of unique values of the said array:\")\n",
    "print(np.asarray((unique_elements, counts_elements)))\n",
    "plt.imshow(new)\n",
    "plt.gray()\n",
    "plt.show()\n",
    "    \n",
    "pred = np.array(pred)\n",
    "print(pred.shape)\n",
    "pred = pred.reshape(16,512,512,1)\n",
    "pred = np.float32(pred)\n",
    "\"\"\""
   ]
  },
  {
   "cell_type": "markdown",
   "metadata": {},
   "source": [
    "## loading the data"
   ]
  },
  {
   "cell_type": "code",
   "execution_count": null,
   "metadata": {
    "colab": {},
    "colab_type": "code",
    "id": "tix0FQihIKFW"
   },
   "outputs": [],
   "source": [
    "\n",
    "train_x = []\n",
    "for i in tqdm(range (0,4000)):\n",
    "    im = imageio.imread('SegData5\\\\Images\\\\'+str(i)+'.png')\n",
    "    im = make1ch(im)\n",
    "    im = np.array(im)\n",
    "    im = im.reshape(512,512,1)\n",
    "    train_x.append(im)\n",
    "train_x = np.array(train_x)\n",
    "#train_x[train_x>170] = 0\n",
    "train_x = (train_x>253.0)*1\n",
    "train_x = np.float32(train_x)\n",
    "\n"
   ]
  },
  {
   "cell_type": "code",
   "execution_count": null,
   "metadata": {
    "colab": {
     "base_uri": "https://localhost:8080/",
     "height": 34
    },
    "colab_type": "code",
    "executionInfo": {
     "elapsed": 55896,
     "status": "ok",
     "timestamp": 1574542977864,
     "user": {
      "displayName": "Yousef Mahmoud",
      "photoUrl": "",
      "userId": "00207167269886880251"
     },
     "user_tz": -120
    },
    "id": "9qQ3PyaDZFtb",
    "outputId": "65fbbd7e-5484-4969-c4ec-1d5b5161d7c3"
   },
   "outputs": [],
   "source": [
    "train_y = []\n",
    "for i in tqdm(range (0,4000)):\n",
    "    im = imageio.imread('SegData5\\\\Labels\\\\'+str(i)+'.png')\n",
    "    im = make1ch(im)\n",
    "    im = np.array(im)\n",
    "    im = im.reshape(512,512,1)\n",
    "    train_y.append(im)\n",
    "train_y = np.array(train_y)\n",
    "#train_y[train_y>170] = 0\n",
    "train_y = (train_y>253.0)*1\n",
    "train_y = np.float32(train_y)\n",
    "\n",
    "print (train_y.shape)"
   ]
  },
  {
   "cell_type": "code",
   "execution_count": null,
   "metadata": {
    "colab": {
     "base_uri": "https://localhost:8080/",
     "height": 34
    },
    "colab_type": "code",
    "executionInfo": {
     "elapsed": 62701,
     "status": "ok",
     "timestamp": 1574542984689,
     "user": {
      "displayName": "Yousef Mahmoud",
      "photoUrl": "",
      "userId": "00207167269886880251"
     },
     "user_tz": -120
    },
    "id": "V52LzodcZFoh",
    "outputId": "4d87bf1e-4786-47c9-ffc6-2b1b601c2010"
   },
   "outputs": [],
   "source": [
    "test_x = []\n",
    "for i in tqdm(range (10000,10500)):\n",
    "    im = imageio.imread('SegData5\\\\Images\\\\'+str(i)+'.png')\n",
    "    im = make1ch(im)\n",
    "    im = np.array(im)\n",
    "    im = im.reshape(512,512,1)\n",
    "    test_x.append(im)\n",
    "test_x = np.array(test_x)\n",
    "#test_x[test_x>170] = 0\n",
    "test_x = (test_x>253.0)*1.0\n",
    "test_x = np.float32(test_x)\n",
    "print (test_x.shape)"
   ]
  },
  {
   "cell_type": "code",
   "execution_count": null,
   "metadata": {
    "colab": {
     "base_uri": "https://localhost:8080/",
     "height": 34
    },
    "colab_type": "code",
    "executionInfo": {
     "elapsed": 69012,
     "status": "ok",
     "timestamp": 1574542991034,
     "user": {
      "displayName": "Yousef Mahmoud",
      "photoUrl": "",
      "userId": "00207167269886880251"
     },
     "user_tz": -120
    },
    "id": "SES4nJsOZ3yh",
    "outputId": "fc53b881-51b8-4d14-9a6e-5ba5ed279c83"
   },
   "outputs": [],
   "source": [
    "test_y = []\n",
    "for i in tqdm(range (10000,10500)):\n",
    "    im = imageio.imread('SegData5\\\\Labels\\\\'+str(i)+'.png')\n",
    "    im = make1ch(im)\n",
    "    im = np.array(im)\n",
    "    im = im.reshape(512,512,1)\n",
    "    test_y.append(im)\n",
    "test_y = np.array(test_y)\n",
    "#test_y[test_y>170] = 0\n",
    "test_y = (test_y>253.0)*1\n",
    "test_y = np.float32(test_y)\n",
    "print (test_y.shape)"
   ]
  },
  {
   "cell_type": "markdown",
   "metadata": {},
   "source": [
    "## making & compiling the model"
   ]
  },
  {
   "cell_type": "code",
   "execution_count": 1,
   "metadata": {
    "colab": {},
    "colab_type": "code",
    "id": "hoCR_sujw936"
   },
   "outputs": [],
   "source": [
    "#import keras\n",
    "from  tensorflow.keras.optimizers import Adam\n",
    "from tensorflow.keras import backend as K\n",
    "from tensorflow.keras.layers import Conv2D, Conv2DTranspose\n",
    "from tensorflow.keras.layers import Input, Dense, Activation\n",
    "from tensorflow.keras.layers import concatenate  # functional interface\n",
    "from tensorflow.keras.models import Model\n",
    "from tensorflow.keras.layers import LeakyReLU\n",
    "\n",
    "N_INPUT = None\n",
    "\n",
    "\n",
    "def get_unet():\n",
    "    n_ch_exps = [6, 6, 7, 7, 8, 8]\n",
    "    kernels = (5, 5)\n",
    "\n",
    "    if K.image_data_format() == 'channels_first':\n",
    "        ch_axis = 1\n",
    "        input_shape = (1, N_INPUT, N_INPUT)\n",
    "    elif K.image_data_format() == 'channels_last':\n",
    "        ch_axis = 3\n",
    "        input_shape = (N_INPUT, N_INPUT, 1)\n",
    "\n",
    "    inp = Input(shape=input_shape)\n",
    "    encodeds = []\n",
    "\n",
    "    # encoder\n",
    "    enc = inp\n",
    "    for l_idx, n_ch in enumerate(n_ch_exps):\n",
    "        enc = Conv2D(2 ** n_ch, kernels,\n",
    "                     strides=(2, 2), padding='same',\n",
    "                     kernel_initializer='he_normal')(enc)\n",
    "        enc = LeakyReLU(name='encoded_{}'.format(l_idx),\n",
    "                        alpha=0.2)(enc)\n",
    "        encodeds.append(enc)\n",
    "\n",
    "    # decoder\n",
    "    dec = enc\n",
    "    decoder_n_chs = n_ch_exps[::-1][1:]\n",
    "    for l_idx, n_ch in enumerate(decoder_n_chs):\n",
    "        l_idx_rev = len(n_ch_exps) - l_idx - 2  #\n",
    "        dec = Conv2DTranspose(2 ** n_ch, kernels,\n",
    "                              strides=(2, 2), padding='same',\n",
    "                              kernel_initializer='he_normal',\n",
    "                              activation='relu',\n",
    "                              name='decoded_{}'.format(l_idx))(dec)\n",
    "        dec = concatenate([dec, encodeds[l_idx_rev]],\n",
    "                          axis=ch_axis)\n",
    "\n",
    "    outp = Conv2DTranspose(1, kernels,\n",
    "                           strides=(2, 2), padding='same',\n",
    "                           kernel_initializer='glorot_normal',\n",
    "                           activation='sigmoid',\n",
    "                           name='decoded_{}'.format(l_idx + 1))(dec)\n",
    "\n",
    "    unet = Model(inputs=inp, outputs=outp)\n",
    "    return unet\n",
    "\n"
   ]
  },
  {
   "cell_type": "code",
   "execution_count": 33,
   "metadata": {
    "colab": {
     "base_uri": "https://localhost:8080/",
     "height": 462
    },
    "colab_type": "code",
    "executionInfo": {
     "elapsed": 77703,
     "status": "ok",
     "timestamp": 1574542999776,
     "user": {
      "displayName": "Yousef Mahmoud",
      "photoUrl": "",
      "userId": "00207167269886880251"
     },
     "user_tz": -120
    },
    "id": "4tIUHm0saEmy",
    "outputId": "ea4b0382-b54e-4ad3-a407-b67830e251a6"
   },
   "outputs": [],
   "source": [
    "model = get_unet()\n",
    "opt =Adam(learning_rate=1e-4)\n",
    "model.compile(optimizer = opt, loss = 'binary_crossentropy' , metrics = ['accuracy'])"
   ]
  },
  {
   "cell_type": "code",
   "execution_count": null,
   "metadata": {},
   "outputs": [],
   "source": [
    "model.fit(train_x,train_y, epochs=4, batch_size=10)"
   ]
  },
  {
   "cell_type": "code",
   "execution_count": null,
   "metadata": {},
   "outputs": [],
   "source": [
    "model.save('trained_model.h5')"
   ]
  },
  {
   "cell_type": "markdown",
   "metadata": {},
   "source": [
    "## Evaluating the model"
   ]
  },
  {
   "cell_type": "code",
   "execution_count": null,
   "metadata": {
    "colab": {},
    "colab_type": "code",
    "id": "cdQjARvBaEk3",
    "scrolled": true
   },
   "outputs": [],
   "source": [
    "results = model.evaluate(test_x, test_y, batch_size=1)\n",
    "\n",
    "print(\"accuracy :\" + str(results[1]*100)+\"%\")"
   ]
  },
  {
   "cell_type": "markdown",
   "metadata": {
    "colab": {},
    "colab_type": "code",
    "id": "1JL7ufd9KAgd"
   },
   "source": [
    "## Visual testing"
   ]
  },
  {
   "cell_type": "code",
   "execution_count": null,
   "metadata": {
    "colab": {},
    "colab_type": "code",
    "id": "Vztc5fNCXO9b"
   },
   "outputs": [],
   "source": [
    "#compare output of an image\n",
    "import tensorflow as tf\n",
    "pictureNum=1;\n",
    "\n",
    "im = imageio.imread('SegData5\\\\Images\\\\'+str(pictureNum)+'.png')\n",
    "im = make1ch(im)\n",
    "im = np.array(im);\n",
    "im = im.reshape(1,512,512,1)\n",
    "im = (im>254.0)*1\n",
    "im2 = tf.cast(im, tf.float32)\n",
    "pred = model.predict(im2)\n",
    "print(pred.shape)\n",
    "imgLabel = imageio.imread('SegData5\\\\Labels\\\\'+str(pictureNum)+'.png')\n",
    "imgLabel = make1ch(imgLabel)\n",
    "imgLabel = np.array(imgLabel);\n",
    "imgLabel = imgLabel.reshape(1,512,512,1)\n",
    "imgLabel = (imgLabel>253)*1\n",
    "\n"
   ]
  },
  {
   "cell_type": "code",
   "execution_count": null,
   "metadata": {
    "colab": {},
    "colab_type": "code",
    "id": "D1so2oHje_jO",
    "scrolled": true
   },
   "outputs": [],
   "source": [
    "import matplotlib.pyplot as plt\n",
    "import matplotlib.image as mpimg\n",
    "\n",
    "fig = plt.figure(figsize=(10, 8),dpi=300)\n",
    "\n",
    "columns = 3\n",
    "rows = 1\n",
    "fig.add_subplot(rows, columns, 1)\n",
    "plt.imshow(im[0].reshape(512,512))\n",
    "\n",
    "fig.add_subplot(rows, columns, 2)\n",
    "plt.imshow(imgLabel[0].reshape(512,512))\n",
    "\n",
    "fig.add_subplot(rows, columns, 3)\n",
    "m = pred[0]*255\n",
    "#m = (m>190)*1\n",
    "plt.imshow(m.reshape(512,512))\n",
    "\n",
    "#plt.imshow(img)\n",
    "\n",
    "\n",
    "plt.gray()\n",
    "plt.show()"
   ]
  },
  {
   "cell_type": "markdown",
   "metadata": {},
   "source": [
    "## loading trained model"
   ]
  },
  {
   "cell_type": "code",
   "execution_count": null,
   "metadata": {},
   "outputs": [],
   "source": [
    "from tensorflow.keras.models import load_model\n",
    "model = load_model('trained_model.h5')"
   ]
  }
 ],
 "metadata": {
  "accelerator": "TPU",
  "colab": {
   "collapsed_sections": [],
   "machine_shape": "hm",
   "name": "Untitled1.ipynb",
   "provenance": []
  },
  "kernelspec": {
   "display_name": "Python 3",
   "language": "python",
   "name": "python3"
  },
  "language_info": {
   "codemirror_mode": {
    "name": "ipython",
    "version": 3
   },
   "file_extension": ".py",
   "mimetype": "text/x-python",
   "name": "python",
   "nbconvert_exporter": "python",
   "pygments_lexer": "ipython3",
   "version": "3.7.4"
  }
 },
 "nbformat": 4,
 "nbformat_minor": 1
}
